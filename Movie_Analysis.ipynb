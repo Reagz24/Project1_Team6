{
 "cells": [
  {
   "cell_type": "code",
   "execution_count": 1,
   "id": "b8bd0616",
   "metadata": {},
   "outputs": [],
   "source": [
    "import pandas as pd\n",
    "import numpy as np\n",
    "import matplotlib.pyplot as plt\n",
    "from scipy.stats import linregress"
   ]
  },
  {
   "cell_type": "code",
   "execution_count": 2,
   "id": "2ba4739e",
   "metadata": {},
   "outputs": [
    {
     "data": {
      "text/html": [
       "<div>\n",
       "<style scoped>\n",
       "    .dataframe tbody tr th:only-of-type {\n",
       "        vertical-align: middle;\n",
       "    }\n",
       "\n",
       "    .dataframe tbody tr th {\n",
       "        vertical-align: top;\n",
       "    }\n",
       "\n",
       "    .dataframe thead th {\n",
       "        text-align: right;\n",
       "    }\n",
       "</style>\n",
       "<table border=\"1\" class=\"dataframe\">\n",
       "  <thead>\n",
       "    <tr style=\"text-align: right;\">\n",
       "      <th></th>\n",
       "      <th>Movie_Title</th>\n",
       "      <th>Year</th>\n",
       "      <th>Director</th>\n",
       "      <th>Actors</th>\n",
       "      <th>imdb_score</th>\n",
       "      <th>Gross</th>\n",
       "    </tr>\n",
       "  </thead>\n",
       "  <tbody>\n",
       "    <tr>\n",
       "      <th>0</th>\n",
       "      <td>Kantara</td>\n",
       "      <td>2022</td>\n",
       "      <td>Rishab Shetty</td>\n",
       "      <td>Rishab Shetty, Sapthami Gowda, Kishore Kumar G...</td>\n",
       "      <td>9.3</td>\n",
       "      <td>NaN</td>\n",
       "    </tr>\n",
       "    <tr>\n",
       "      <th>1</th>\n",
       "      <td>The Dark Knight</td>\n",
       "      <td>2008</td>\n",
       "      <td>Christopher Nolan</td>\n",
       "      <td>Christian Bale, Heath Ledger, Aaron Eckhart, M...</td>\n",
       "      <td>9.0</td>\n",
       "      <td>534.86</td>\n",
       "    </tr>\n",
       "    <tr>\n",
       "      <th>2</th>\n",
       "      <td>The Lord of the Rings: The Return of the King</td>\n",
       "      <td>2003</td>\n",
       "      <td>Peter Jackson</td>\n",
       "      <td>Elijah Wood, Viggo Mortensen, Ian McKellen, Or...</td>\n",
       "      <td>9.0</td>\n",
       "      <td>377.85</td>\n",
       "    </tr>\n",
       "    <tr>\n",
       "      <th>3</th>\n",
       "      <td>Inception</td>\n",
       "      <td>2010</td>\n",
       "      <td>Christopher Nolan</td>\n",
       "      <td>Leonardo DiCaprio, Joseph Gordon-Levitt, Ellio...</td>\n",
       "      <td>8.8</td>\n",
       "      <td>292.58</td>\n",
       "    </tr>\n",
       "    <tr>\n",
       "      <th>4</th>\n",
       "      <td>The Lord of the Rings: The Two Towers</td>\n",
       "      <td>2002</td>\n",
       "      <td>Peter Jackson</td>\n",
       "      <td>Elijah Wood, Ian McKellen, Viggo Mortensen, Or...</td>\n",
       "      <td>8.8</td>\n",
       "      <td>342.55</td>\n",
       "    </tr>\n",
       "  </tbody>\n",
       "</table>\n",
       "</div>"
      ],
      "text/plain": [
       "                                     Movie_Title  Year           Director  \\\n",
       "0                                        Kantara  2022      Rishab Shetty   \n",
       "1                                The Dark Knight  2008  Christopher Nolan   \n",
       "2  The Lord of the Rings: The Return of the King  2003      Peter Jackson   \n",
       "3                                      Inception  2010  Christopher Nolan   \n",
       "4          The Lord of the Rings: The Two Towers  2002      Peter Jackson   \n",
       "\n",
       "                                              Actors  imdb_score   Gross  \n",
       "0  Rishab Shetty, Sapthami Gowda, Kishore Kumar G...         9.3     NaN  \n",
       "1  Christian Bale, Heath Ledger, Aaron Eckhart, M...         9.0  534.86  \n",
       "2  Elijah Wood, Viggo Mortensen, Ian McKellen, Or...         9.0  377.85  \n",
       "3  Leonardo DiCaprio, Joseph Gordon-Levitt, Ellio...         8.8  292.58  \n",
       "4  Elijah Wood, Ian McKellen, Viggo Mortensen, Or...         8.8  342.55  "
      ]
     },
     "execution_count": 2,
     "metadata": {},
     "output_type": "execute_result"
    }
   ],
   "source": [
    "#Load CSV Files with movie data\n",
    "imdb_file = pd.read_csv(\"Resource/IMDb_All_Genres_etf_clean1.csv\")\n",
    "imdb_clean = imdb_file.drop(columns = [\"Censor\", \"main_genre\", \"side_genre\", \"Runtime(Mins)\"])\n",
    "imdb_clean = imdb_clean.rename(columns = {\"Rating\": \"imdb_score\", \"Total_Gross\" : \"Gross\"})\n",
    "imdb_clean.set_index(\"Movie_Title\")\n",
    "imdb_clean[\"Gross\"] = imdb_clean[\"Gross\"].replace({\"Gross Unkown\": \"\"})\n",
    "imdb_clean[\"Gross\"] = imdb_clean[\"Gross\"].replace('[\\$,]', '', regex=True)\n",
    "imdb_clean[\"Gross\"] = imdb_clean[\"Gross\"].replace('[M,]', '', regex=True)\n",
    "imdb_clean[\"Gross\"] = pd.to_numeric(imdb_clean[\"Gross\"])\n",
    "#imdb_clean[\"Director\"] = imdb_clean[\"Director\"].replace('[\\Directors:,]', '', regex=True)\n",
    "imdb_clean.head()"
   ]
  },
  {
   "cell_type": "code",
   "execution_count": 3,
   "id": "19e252a2",
   "metadata": {},
   "outputs": [
    {
     "data": {
      "text/plain": [
       "Year                    int64\n",
       "Gross                 float64\n",
       "Worldwide LT Gross     object\n",
       "Metascore             float64\n",
       "dtype: object"
      ]
     },
     "execution_count": 3,
     "metadata": {},
     "output_type": "execute_result"
    }
   ],
   "source": [
    "#Load CSV Files with movie data\n",
    "top1000_file = pd.read_csv(\"Resource/Top_1000_Highest_Grossing_Movies_Of_All_Time.csv\")\n",
    "top1000_file = top1000_file.drop(columns = [\"Genre\", \"Movie Rating\", \"Duration\", \"Votes\", \"Logline\"])\n",
    "top1000_file = top1000_file.rename(columns = {\"Movie Title\": \"Movie_Title\", \"Year of Realease\": \"Year\"})\n",
    "top1000_file = top1000_file.set_index(\"Movie_Title\")\n",
    "top1000_file[\"Year\"] = top1000_file[\"Year\"].replace({\"X2016\": \"2016\"})\n",
    "top1000_file[\"Metascore\"] = top1000_file[\"Metascore\"].replace({\"******\": \"\"})\n",
    "top1000_file[\"Year\"] = pd.to_numeric(top1000_file[\"Year\"])\n",
    "top1000_file[\"Metascore\"] = pd.to_numeric(top1000_file[\"Metascore\"])\n",
    "top1000_file[\"Gross\"] = top1000_file[\"Gross\"].replace('[\\$,]', '', regex=True)\n",
    "top1000_file[\"Gross\"] = top1000_file[\"Gross\"].replace('[M,]', '', regex=True)\n",
    "top1000_file[\"Gross\"] = top1000_file[\"Gross\"].replace({\"******\": \"\"})\n",
    "top1000_file[\"Gross\"] = pd.to_numeric(top1000_file[\"Gross\"])\n",
    "top1000_file[\"Worldwide LT Gross\"] = top1000_file[\"Worldwide LT Gross\"].replace('[\\$,]', '', regex=True)\n",
    "top1000_file.dtypes"
   ]
  },
  {
   "cell_type": "code",
   "execution_count": 4,
   "id": "b5f387b8",
   "metadata": {},
   "outputs": [
    {
     "data": {
      "text/html": [
       "<div>\n",
       "<style scoped>\n",
       "    .dataframe tbody tr th:only-of-type {\n",
       "        vertical-align: middle;\n",
       "    }\n",
       "\n",
       "    .dataframe tbody tr th {\n",
       "        vertical-align: top;\n",
       "    }\n",
       "\n",
       "    .dataframe thead th {\n",
       "        text-align: right;\n",
       "    }\n",
       "</style>\n",
       "<table border=\"1\" class=\"dataframe\">\n",
       "  <thead>\n",
       "    <tr style=\"text-align: right;\">\n",
       "      <th></th>\n",
       "      <th>Movie_Title</th>\n",
       "      <th>Year</th>\n",
       "      <th>Director</th>\n",
       "      <th>Actors</th>\n",
       "      <th>imdb_score</th>\n",
       "      <th>Gross</th>\n",
       "      <th>Metascore</th>\n",
       "    </tr>\n",
       "  </thead>\n",
       "  <tbody>\n",
       "    <tr>\n",
       "      <th>0</th>\n",
       "      <td>Kantara</td>\n",
       "      <td>2022</td>\n",
       "      <td>Rishab Shetty</td>\n",
       "      <td>Rishab Shetty, Sapthami Gowda, Kishore Kumar G...</td>\n",
       "      <td>9.3</td>\n",
       "      <td>NaN</td>\n",
       "      <td>NaN</td>\n",
       "    </tr>\n",
       "    <tr>\n",
       "      <th>1</th>\n",
       "      <td>The Dark Knight</td>\n",
       "      <td>2008</td>\n",
       "      <td>Christopher Nolan</td>\n",
       "      <td>Christian Bale, Heath Ledger, Aaron Eckhart, M...</td>\n",
       "      <td>9.0</td>\n",
       "      <td>534.86</td>\n",
       "      <td>84.0</td>\n",
       "    </tr>\n",
       "    <tr>\n",
       "      <th>2</th>\n",
       "      <td>The Lord of the Rings: The Return of the King</td>\n",
       "      <td>2003</td>\n",
       "      <td>Peter Jackson</td>\n",
       "      <td>Elijah Wood, Viggo Mortensen, Ian McKellen, Or...</td>\n",
       "      <td>9.0</td>\n",
       "      <td>377.85</td>\n",
       "      <td>94.0</td>\n",
       "    </tr>\n",
       "    <tr>\n",
       "      <th>3</th>\n",
       "      <td>Inception</td>\n",
       "      <td>2010</td>\n",
       "      <td>Christopher Nolan</td>\n",
       "      <td>Leonardo DiCaprio, Joseph Gordon-Levitt, Ellio...</td>\n",
       "      <td>8.8</td>\n",
       "      <td>292.58</td>\n",
       "      <td>74.0</td>\n",
       "    </tr>\n",
       "    <tr>\n",
       "      <th>4</th>\n",
       "      <td>The Lord of the Rings: The Two Towers</td>\n",
       "      <td>2002</td>\n",
       "      <td>Peter Jackson</td>\n",
       "      <td>Elijah Wood, Ian McKellen, Viggo Mortensen, Or...</td>\n",
       "      <td>8.8</td>\n",
       "      <td>342.55</td>\n",
       "      <td>87.0</td>\n",
       "    </tr>\n",
       "  </tbody>\n",
       "</table>\n",
       "</div>"
      ],
      "text/plain": [
       "                                     Movie_Title  Year           Director  \\\n",
       "0                                        Kantara  2022      Rishab Shetty   \n",
       "1                                The Dark Knight  2008  Christopher Nolan   \n",
       "2  The Lord of the Rings: The Return of the King  2003      Peter Jackson   \n",
       "3                                      Inception  2010  Christopher Nolan   \n",
       "4          The Lord of the Rings: The Two Towers  2002      Peter Jackson   \n",
       "\n",
       "                                              Actors  imdb_score   Gross  \\\n",
       "0  Rishab Shetty, Sapthami Gowda, Kishore Kumar G...         9.3     NaN   \n",
       "1  Christian Bale, Heath Ledger, Aaron Eckhart, M...         9.0  534.86   \n",
       "2  Elijah Wood, Viggo Mortensen, Ian McKellen, Or...         9.0  377.85   \n",
       "3  Leonardo DiCaprio, Joseph Gordon-Levitt, Ellio...         8.8  292.58   \n",
       "4  Elijah Wood, Ian McKellen, Viggo Mortensen, Or...         8.8  342.55   \n",
       "\n",
       "   Metascore  \n",
       "0        NaN  \n",
       "1       84.0  \n",
       "2       94.0  \n",
       "3       74.0  \n",
       "4       87.0  "
      ]
     },
     "execution_count": 4,
     "metadata": {},
     "output_type": "execute_result"
    }
   ],
   "source": [
    "#Merge Dataframes into one\n",
    "merge_df = pd.merge(imdb_clean, top1000_file, how = \"outer\", on = [\"Movie_Title\", \"Year\", \"Gross\"])\n",
    "merge_df = merge_df.drop(columns = \"Worldwide LT Gross\")\n",
    "merge_df.head()"
   ]
  },
  {
   "cell_type": "code",
   "execution_count": 5,
   "id": "f0f17f8b",
   "metadata": {},
   "outputs": [
    {
     "data": {
      "text/html": [
       "<div>\n",
       "<style scoped>\n",
       "    .dataframe tbody tr th:only-of-type {\n",
       "        vertical-align: middle;\n",
       "    }\n",
       "\n",
       "    .dataframe tbody tr th {\n",
       "        vertical-align: top;\n",
       "    }\n",
       "\n",
       "    .dataframe thead th {\n",
       "        text-align: right;\n",
       "    }\n",
       "</style>\n",
       "<table border=\"1\" class=\"dataframe\">\n",
       "  <thead>\n",
       "    <tr style=\"text-align: right;\">\n",
       "      <th></th>\n",
       "      <th>Movie_Title</th>\n",
       "      <th>Year</th>\n",
       "      <th>Director</th>\n",
       "      <th>Actors</th>\n",
       "      <th>imdb_score</th>\n",
       "      <th>Gross</th>\n",
       "      <th>Metascore</th>\n",
       "    </tr>\n",
       "  </thead>\n",
       "  <tbody>\n",
       "    <tr>\n",
       "      <th>0</th>\n",
       "      <td>Kantara</td>\n",
       "      <td>2022</td>\n",
       "      <td>Rishab Shetty</td>\n",
       "      <td>Rishab Shetty, Sapthami Gowda, Kishore Kumar G...</td>\n",
       "      <td>9.3</td>\n",
       "      <td>NaN</td>\n",
       "      <td>NaN</td>\n",
       "    </tr>\n",
       "    <tr>\n",
       "      <th>1</th>\n",
       "      <td>The Dark Knight</td>\n",
       "      <td>2008</td>\n",
       "      <td>Christopher Nolan</td>\n",
       "      <td>Christian Bale, Heath Ledger, Aaron Eckhart, M...</td>\n",
       "      <td>9.0</td>\n",
       "      <td>534.86</td>\n",
       "      <td>84.0</td>\n",
       "    </tr>\n",
       "    <tr>\n",
       "      <th>2</th>\n",
       "      <td>The Lord of the Rings: The Return of the King</td>\n",
       "      <td>2003</td>\n",
       "      <td>Peter Jackson</td>\n",
       "      <td>Elijah Wood, Viggo Mortensen, Ian McKellen, Or...</td>\n",
       "      <td>9.0</td>\n",
       "      <td>377.85</td>\n",
       "      <td>94.0</td>\n",
       "    </tr>\n",
       "    <tr>\n",
       "      <th>3</th>\n",
       "      <td>Inception</td>\n",
       "      <td>2010</td>\n",
       "      <td>Christopher Nolan</td>\n",
       "      <td>Leonardo DiCaprio, Joseph Gordon-Levitt, Ellio...</td>\n",
       "      <td>8.8</td>\n",
       "      <td>292.58</td>\n",
       "      <td>74.0</td>\n",
       "    </tr>\n",
       "    <tr>\n",
       "      <th>4</th>\n",
       "      <td>The Lord of the Rings: The Two Towers</td>\n",
       "      <td>2002</td>\n",
       "      <td>Peter Jackson</td>\n",
       "      <td>Elijah Wood, Ian McKellen, Viggo Mortensen, Or...</td>\n",
       "      <td>8.8</td>\n",
       "      <td>342.55</td>\n",
       "      <td>87.0</td>\n",
       "    </tr>\n",
       "  </tbody>\n",
       "</table>\n",
       "</div>"
      ],
      "text/plain": [
       "                                     Movie_Title  Year           Director  \\\n",
       "0                                        Kantara  2022      Rishab Shetty   \n",
       "1                                The Dark Knight  2008  Christopher Nolan   \n",
       "2  The Lord of the Rings: The Return of the King  2003      Peter Jackson   \n",
       "3                                      Inception  2010  Christopher Nolan   \n",
       "4          The Lord of the Rings: The Two Towers  2002      Peter Jackson   \n",
       "\n",
       "                                              Actors  imdb_score   Gross  \\\n",
       "0  Rishab Shetty, Sapthami Gowda, Kishore Kumar G...         9.3     NaN   \n",
       "1  Christian Bale, Heath Ledger, Aaron Eckhart, M...         9.0  534.86   \n",
       "2  Elijah Wood, Viggo Mortensen, Ian McKellen, Or...         9.0  377.85   \n",
       "3  Leonardo DiCaprio, Joseph Gordon-Levitt, Ellio...         8.8  292.58   \n",
       "4  Elijah Wood, Ian McKellen, Viggo Mortensen, Or...         8.8  342.55   \n",
       "\n",
       "   Metascore  \n",
       "0        NaN  \n",
       "1       84.0  \n",
       "2       94.0  \n",
       "3       74.0  \n",
       "4       87.0  "
      ]
     },
     "execution_count": 5,
     "metadata": {},
     "output_type": "execute_result"
    }
   ],
   "source": [
    "directorframe = merge_df[\"Director\"].str.split(\", \", expand = True, n = 1)\n",
    "directorframe= directorframe.rename(columns = {directorframe.columns[0]: \"Director\"})\n",
    "merge_df[\"Director\"] = directorframe[\"Director\"]\n",
    "merge_df.head()"
   ]
  },
  {
   "cell_type": "code",
   "execution_count": 6,
   "id": "1823caf0",
   "metadata": {},
   "outputs": [
    {
     "data": {
      "text/html": [
       "<div>\n",
       "<style scoped>\n",
       "    .dataframe tbody tr th:only-of-type {\n",
       "        vertical-align: middle;\n",
       "    }\n",
       "\n",
       "    .dataframe tbody tr th {\n",
       "        vertical-align: top;\n",
       "    }\n",
       "\n",
       "    .dataframe thead th {\n",
       "        text-align: right;\n",
       "    }\n",
       "</style>\n",
       "<table border=\"1\" class=\"dataframe\">\n",
       "  <thead>\n",
       "    <tr style=\"text-align: right;\">\n",
       "      <th></th>\n",
       "      <th>Movie_Title</th>\n",
       "      <th>Year</th>\n",
       "      <th>Director</th>\n",
       "      <th>Actors</th>\n",
       "      <th>imdb_score</th>\n",
       "      <th>Gross</th>\n",
       "      <th>Metascore</th>\n",
       "    </tr>\n",
       "  </thead>\n",
       "  <tbody>\n",
       "    <tr>\n",
       "      <th>0</th>\n",
       "      <td>Kantara</td>\n",
       "      <td>2022</td>\n",
       "      <td>Rishab Shetty</td>\n",
       "      <td>Rishab Shetty</td>\n",
       "      <td>9.3</td>\n",
       "      <td>NaN</td>\n",
       "      <td>NaN</td>\n",
       "    </tr>\n",
       "    <tr>\n",
       "      <th>1</th>\n",
       "      <td>The Dark Knight</td>\n",
       "      <td>2008</td>\n",
       "      <td>Christopher Nolan</td>\n",
       "      <td>Christian Bale</td>\n",
       "      <td>9.0</td>\n",
       "      <td>534.86</td>\n",
       "      <td>84.0</td>\n",
       "    </tr>\n",
       "    <tr>\n",
       "      <th>2</th>\n",
       "      <td>The Lord of the Rings: The Return of the King</td>\n",
       "      <td>2003</td>\n",
       "      <td>Peter Jackson</td>\n",
       "      <td>Elijah Wood</td>\n",
       "      <td>9.0</td>\n",
       "      <td>377.85</td>\n",
       "      <td>94.0</td>\n",
       "    </tr>\n",
       "    <tr>\n",
       "      <th>3</th>\n",
       "      <td>Inception</td>\n",
       "      <td>2010</td>\n",
       "      <td>Christopher Nolan</td>\n",
       "      <td>Leonardo DiCaprio</td>\n",
       "      <td>8.8</td>\n",
       "      <td>292.58</td>\n",
       "      <td>74.0</td>\n",
       "    </tr>\n",
       "    <tr>\n",
       "      <th>4</th>\n",
       "      <td>The Lord of the Rings: The Two Towers</td>\n",
       "      <td>2002</td>\n",
       "      <td>Peter Jackson</td>\n",
       "      <td>Elijah Wood</td>\n",
       "      <td>8.8</td>\n",
       "      <td>342.55</td>\n",
       "      <td>87.0</td>\n",
       "    </tr>\n",
       "  </tbody>\n",
       "</table>\n",
       "</div>"
      ],
      "text/plain": [
       "                                     Movie_Title  Year           Director  \\\n",
       "0                                        Kantara  2022      Rishab Shetty   \n",
       "1                                The Dark Knight  2008  Christopher Nolan   \n",
       "2  The Lord of the Rings: The Return of the King  2003      Peter Jackson   \n",
       "3                                      Inception  2010  Christopher Nolan   \n",
       "4          The Lord of the Rings: The Two Towers  2002      Peter Jackson   \n",
       "\n",
       "              Actors  imdb_score   Gross  Metascore  \n",
       "0      Rishab Shetty         9.3     NaN        NaN  \n",
       "1     Christian Bale         9.0  534.86       84.0  \n",
       "2        Elijah Wood         9.0  377.85       94.0  \n",
       "3  Leonardo DiCaprio         8.8  292.58       74.0  \n",
       "4        Elijah Wood         8.8  342.55       87.0  "
      ]
     },
     "execution_count": 6,
     "metadata": {},
     "output_type": "execute_result"
    }
   ],
   "source": [
    "actorframe = merge_df[\"Actors\"].str.split(\", \", expand = True, n = 1)\n",
    "actorframe= actorframe.rename(columns = {actorframe.columns[0]: \"Actors\"})\n",
    "merge_df[\"Actors\"] = actorframe[\"Actors\"]\n",
    "merge_df.head()"
   ]
  },
  {
   "cell_type": "code",
   "execution_count": 7,
   "id": "c3217d33",
   "metadata": {},
   "outputs": [
    {
     "data": {
      "text/plain": [
       "Movie_Title     object\n",
       "Year             int64\n",
       "Director        object\n",
       "Actors          object\n",
       "imdb_score     float64\n",
       "Gross          float64\n",
       "Metascore      float64\n",
       "dtype: object"
      ]
     },
     "execution_count": 7,
     "metadata": {},
     "output_type": "execute_result"
    }
   ],
   "source": [
    "merge_df[\"Gross\"] = pd.to_numeric(merge_df[\"Gross\"])\n",
    "merge_df[\"Metascore\"] = pd.to_numeric(merge_df[\"Metascore\"])\n",
    "merge_df.dtypes"
   ]
  },
  {
   "cell_type": "code",
   "execution_count": 12,
   "id": "451c5ad4",
   "metadata": {},
   "outputs": [
    {
     "data": {
      "text/html": [
       "<div>\n",
       "<style scoped>\n",
       "    .dataframe tbody tr th:only-of-type {\n",
       "        vertical-align: middle;\n",
       "    }\n",
       "\n",
       "    .dataframe tbody tr th {\n",
       "        vertical-align: top;\n",
       "    }\n",
       "\n",
       "    .dataframe thead th {\n",
       "        text-align: right;\n",
       "    }\n",
       "</style>\n",
       "<table border=\"1\" class=\"dataframe\">\n",
       "  <thead>\n",
       "    <tr style=\"text-align: right;\">\n",
       "      <th></th>\n",
       "      <th>Movie_Title</th>\n",
       "      <th>imdb_score</th>\n",
       "      <th>Gross</th>\n",
       "    </tr>\n",
       "  </thead>\n",
       "  <tbody>\n",
       "    <tr>\n",
       "      <th>1</th>\n",
       "      <td>The Dark Knight</td>\n",
       "      <td>9.0</td>\n",
       "      <td>534.86</td>\n",
       "    </tr>\n",
       "    <tr>\n",
       "      <th>2</th>\n",
       "      <td>The Lord of the Rings: The Return of the King</td>\n",
       "      <td>9.0</td>\n",
       "      <td>377.85</td>\n",
       "    </tr>\n",
       "    <tr>\n",
       "      <th>3</th>\n",
       "      <td>Inception</td>\n",
       "      <td>8.8</td>\n",
       "      <td>292.58</td>\n",
       "    </tr>\n",
       "    <tr>\n",
       "      <th>4</th>\n",
       "      <td>The Lord of the Rings: The Two Towers</td>\n",
       "      <td>8.8</td>\n",
       "      <td>342.55</td>\n",
       "    </tr>\n",
       "    <tr>\n",
       "      <th>5</th>\n",
       "      <td>The Lord of the Rings: The Fellowship of the Ring</td>\n",
       "      <td>8.8</td>\n",
       "      <td>315.54</td>\n",
       "    </tr>\n",
       "    <tr>\n",
       "      <th>...</th>\n",
       "      <td>...</td>\n",
       "      <td>...</td>\n",
       "      <td>...</td>\n",
       "    </tr>\n",
       "    <tr>\n",
       "      <th>5555</th>\n",
       "      <td>Son of the Mask</td>\n",
       "      <td>2.2</td>\n",
       "      <td>17.02</td>\n",
       "    </tr>\n",
       "    <tr>\n",
       "      <th>5557</th>\n",
       "      <td>Disaster Movie</td>\n",
       "      <td>1.9</td>\n",
       "      <td>14.19</td>\n",
       "    </tr>\n",
       "    <tr>\n",
       "      <th>5558</th>\n",
       "      <td>The Hottie &amp; the Nottie</td>\n",
       "      <td>1.9</td>\n",
       "      <td>0.03</td>\n",
       "    </tr>\n",
       "    <tr>\n",
       "      <th>5559</th>\n",
       "      <td>From Justin to Kelly</td>\n",
       "      <td>1.9</td>\n",
       "      <td>4.92</td>\n",
       "    </tr>\n",
       "    <tr>\n",
       "      <th>5560</th>\n",
       "      <td>Superbabies: Baby Geniuses 2</td>\n",
       "      <td>1.5</td>\n",
       "      <td>9.11</td>\n",
       "    </tr>\n",
       "  </tbody>\n",
       "</table>\n",
       "<p>4701 rows × 3 columns</p>\n",
       "</div>"
      ],
      "text/plain": [
       "                                            Movie_Title  imdb_score   Gross\n",
       "1                                       The Dark Knight         9.0  534.86\n",
       "2         The Lord of the Rings: The Return of the King         9.0  377.85\n",
       "3                                             Inception         8.8  292.58\n",
       "4                 The Lord of the Rings: The Two Towers         8.8  342.55\n",
       "5     The Lord of the Rings: The Fellowship of the Ring         8.8  315.54\n",
       "...                                                 ...         ...     ...\n",
       "5555                                    Son of the Mask         2.2   17.02\n",
       "5557                                     Disaster Movie         1.9   14.19\n",
       "5558                            The Hottie & the Nottie         1.9    0.03\n",
       "5559                               From Justin to Kelly         1.9    4.92\n",
       "5560                       Superbabies: Baby Geniuses 2         1.5    9.11\n",
       "\n",
       "[4701 rows x 3 columns]"
      ]
     },
     "execution_count": 12,
     "metadata": {},
     "output_type": "execute_result"
    }
   ],
   "source": [
    "imdb_frame = merge_df[[\"Movie_Title\", \"imdb_score\", \"Gross\"]]\n",
    "imdb_frame = imdb_frame.dropna()"
   ]
  },
  {
   "cell_type": "code",
   "execution_count": 27,
   "id": "04111f7f",
   "metadata": {},
   "outputs": [
    {
     "data": {
      "image/png": "[encoded data removed]",
      "text/plain": [
       "<Figure size 640x480 with 1 Axes>"
      ]
     },
     "metadata": {},
     "output_type": "display_data"
    },
    {
     "data": {
      "text/plain": [
       "0.07261612503105903"
      ]
     },
     "execution_count": 27,
     "metadata": {},
     "output_type": "execute_result"
    }
   ],
   "source": [
    "x_values = imdb_frame[\"imdb_score\"]*10\n",
    "y_values = imdb_frame[\"Gross\"]\n",
    "plt.scatter(x_values, y_values)\n",
    "#plt.ylim(0, 850000000)\n",
    "#plt.xlim(0,100)\n",
    "plt.ylabel(\"Gross Income in Million$\")\n",
    "plt.xlabel(\"IMDB Score (*10)\")\n",
    "imdb_reg = linregress(x_values, y_values)\n",
    "imdb_line = imdb_reg.slope*x_values+imdb_reg.intercept\n",
    "show_eq = \"y =\" + str(round(imdb_reg.slope, 2)) + \"x +\" + str(round(imdb_reg.intercept,2))\n",
    "plt.annotate(show_eq, (20,800), color = \"red\", fontsize = 15)\n",
    "plt.grid()\n",
    "plt.plot(x_values, imdb_line, \"r\")\n",
    "plt.show()\n",
    "imdb_reg.rvalue"
   ]
  },
  {
   "cell_type": "code",
   "execution_count": 18,
   "id": "f833e54e",
   "metadata": {},
   "outputs": [
    {
     "data": {
      "text/html": [
       "<div>\n",
       "<style scoped>\n",
       "    .dataframe tbody tr th:only-of-type {\n",
       "        vertical-align: middle;\n",
       "    }\n",
       "\n",
       "    .dataframe tbody tr th {\n",
       "        vertical-align: top;\n",
       "    }\n",
       "\n",
       "    .dataframe thead th {\n",
       "        text-align: right;\n",
       "    }\n",
       "</style>\n",
       "<table border=\"1\" class=\"dataframe\">\n",
       "  <thead>\n",
       "    <tr style=\"text-align: right;\">\n",
       "      <th></th>\n",
       "      <th>Movie_Title</th>\n",
       "      <th>Metascore</th>\n",
       "      <th>Gross</th>\n",
       "    </tr>\n",
       "  </thead>\n",
       "  <tbody>\n",
       "    <tr>\n",
       "      <th>1</th>\n",
       "      <td>The Dark Knight</td>\n",
       "      <td>84.0</td>\n",
       "      <td>534.86</td>\n",
       "    </tr>\n",
       "    <tr>\n",
       "      <th>2</th>\n",
       "      <td>The Lord of the Rings: The Return of the King</td>\n",
       "      <td>94.0</td>\n",
       "      <td>377.85</td>\n",
       "    </tr>\n",
       "    <tr>\n",
       "      <th>3</th>\n",
       "      <td>Inception</td>\n",
       "      <td>74.0</td>\n",
       "      <td>292.58</td>\n",
       "    </tr>\n",
       "    <tr>\n",
       "      <th>4</th>\n",
       "      <td>The Lord of the Rings: The Two Towers</td>\n",
       "      <td>87.0</td>\n",
       "      <td>342.55</td>\n",
       "    </tr>\n",
       "    <tr>\n",
       "      <th>5</th>\n",
       "      <td>The Lord of the Rings: The Fellowship of the Ring</td>\n",
       "      <td>92.0</td>\n",
       "      <td>315.54</td>\n",
       "    </tr>\n",
       "    <tr>\n",
       "      <th>...</th>\n",
       "      <td>...</td>\n",
       "      <td>...</td>\n",
       "      <td>...</td>\n",
       "    </tr>\n",
       "    <tr>\n",
       "      <th>5636</th>\n",
       "      <td>Smurfs: The Lost Village</td>\n",
       "      <td>40.0</td>\n",
       "      <td>45.02</td>\n",
       "    </tr>\n",
       "    <tr>\n",
       "      <th>5638</th>\n",
       "      <td>The BFG</td>\n",
       "      <td>66.0</td>\n",
       "      <td>55.48</td>\n",
       "    </tr>\n",
       "    <tr>\n",
       "      <th>5644</th>\n",
       "      <td>Jaws 2</td>\n",
       "      <td>51.0</td>\n",
       "      <td>102.92</td>\n",
       "    </tr>\n",
       "    <tr>\n",
       "      <th>5646</th>\n",
       "      <td>The Jungle Book 2</td>\n",
       "      <td>38.0</td>\n",
       "      <td>47.89</td>\n",
       "    </tr>\n",
       "    <tr>\n",
       "      <th>5647</th>\n",
       "      <td>The Final Destination</td>\n",
       "      <td>30.0</td>\n",
       "      <td>66.48</td>\n",
       "    </tr>\n",
       "  </tbody>\n",
       "</table>\n",
       "<p>950 rows × 3 columns</p>\n",
       "</div>"
      ],
      "text/plain": [
       "                                            Movie_Title  Metascore   Gross\n",
       "1                                       The Dark Knight       84.0  534.86\n",
       "2         The Lord of the Rings: The Return of the King       94.0  377.85\n",
       "3                                             Inception       74.0  292.58\n",
       "4                 The Lord of the Rings: The Two Towers       87.0  342.55\n",
       "5     The Lord of the Rings: The Fellowship of the Ring       92.0  315.54\n",
       "...                                                 ...        ...     ...\n",
       "5636                           Smurfs: The Lost Village       40.0   45.02\n",
       "5638                                            The BFG       66.0   55.48\n",
       "5644                                             Jaws 2       51.0  102.92\n",
       "5646                                  The Jungle Book 2       38.0   47.89\n",
       "5647                              The Final Destination       30.0   66.48\n",
       "\n",
       "[950 rows x 3 columns]"
      ]
     },
     "execution_count": 18,
     "metadata": {},
     "output_type": "execute_result"
    }
   ],
   "source": [
    "meta_frame = merge_df[[\"Movie_Title\", \"Metascore\", \"Gross\"]]\n",
    "meta_frame = meta_frame.dropna()\n",
    "meta_frame"
   ]
  },
  {
   "cell_type": "code",
   "execution_count": 24,
   "id": "4051a7a5",
   "metadata": {},
   "outputs": [
    {
     "data": {
      "image/png": "[encoded data removed]",
      "text/plain": [
       "<Figure size 640x480 with 1 Axes>"
      ]
     },
     "metadata": {},
     "output_type": "display_data"
    },
    {
     "data": {
      "text/plain": [
       "0.2778994477473194"
      ]
     },
     "execution_count": 24,
     "metadata": {},
     "output_type": "execute_result"
    }
   ],
   "source": [
    "x_values = meta_frame[\"Metascore\"]\n",
    "y_values = meta_frame[\"Gross\"]\n",
    "plt.scatter(x_values, y_values)\n",
    "#plt.ylim(0, 850000000)\n",
    "#plt.xlim(0,100)\n",
    "plt.ylabel(\"Gross Income in Million$\")\n",
    "plt.xlabel(\"Metascore\")\n",
    "meta_reg = linregress(x_values, y_values)\n",
    "meta_line = meta_reg.slope*x_values+meta_reg.intercept\n",
    "show_eq = \"y =\" + str(round(meta_reg.slope, 2)) + \"x +\" + str(round(meta_reg.intercept,2))\n",
    "plt.annotate(show_eq, (20,800), color = \"red\", fontsize = 15)\n",
    "plt.grid()\n",
    "plt.plot(x_values, meta_line, \"r\")\n",
    "plt.show()\n",
    "meta_reg.rvalue"
   ]
  },
  {
   "cell_type": "code",
   "execution_count": 43,
   "id": "ea3461ef",
   "metadata": {},
   "outputs": [
    {
     "data": {
      "text/html": [
       "<div>\n",
       "<style scoped>\n",
       "    .dataframe tbody tr th:only-of-type {\n",
       "        vertical-align: middle;\n",
       "    }\n",
       "\n",
       "    .dataframe tbody tr th {\n",
       "        vertical-align: top;\n",
       "    }\n",
       "\n",
       "    .dataframe thead th {\n",
       "        text-align: right;\n",
       "    }\n",
       "</style>\n",
       "<table border=\"1\" class=\"dataframe\">\n",
       "  <thead>\n",
       "    <tr style=\"text-align: right;\">\n",
       "      <th></th>\n",
       "      <th>Gross</th>\n",
       "    </tr>\n",
       "    <tr>\n",
       "      <th>Director</th>\n",
       "      <th></th>\n",
       "    </tr>\n",
       "  </thead>\n",
       "  <tbody>\n",
       "    <tr>\n",
       "      <th>Anthony Russo</th>\n",
       "      <td>456.134000</td>\n",
       "    </tr>\n",
       "    <tr>\n",
       "      <th>Josh Cooley</th>\n",
       "      <td>434.040000</td>\n",
       "    </tr>\n",
       "    <tr>\n",
       "      <th>Jon Watts</th>\n",
       "      <td>382.402500</td>\n",
       "    </tr>\n",
       "    <tr>\n",
       "      <th>Joss Whedon</th>\n",
       "      <td>369.266667</td>\n",
       "    </tr>\n",
       "    <tr>\n",
       "      <th>J.J. Abrams</th>\n",
       "      <td>366.566667</td>\n",
       "    </tr>\n",
       "  </tbody>\n",
       "</table>\n",
       "</div>"
      ],
      "text/plain": [
       "                    Gross\n",
       "Director                 \n",
       "Anthony Russo  456.134000\n",
       "Josh Cooley    434.040000\n",
       "Jon Watts      382.402500\n",
       "Joss Whedon    369.266667\n",
       "J.J. Abrams    366.566667"
      ]
     },
     "execution_count": 43,
     "metadata": {},
     "output_type": "execute_result"
    }
   ],
   "source": [
    "#Find per film average in revenue by director\n",
    "directors = merge_df[[\"Director\", \"Gross\"]].replace('Directors:', '', regex=True).dropna()\n",
    "director_average = directors.groupby([\"Director\"]).mean().sort_values([\"Gross\"], ascending = False)\n",
    "director_average.head()"
   ]
  },
  {
   "cell_type": "code",
   "execution_count": 41,
   "id": "d69a11d2",
   "metadata": {},
   "outputs": [
    {
     "data": {
      "text/html": [
       "<div>\n",
       "<style scoped>\n",
       "    .dataframe tbody tr th:only-of-type {\n",
       "        vertical-align: middle;\n",
       "    }\n",
       "\n",
       "    .dataframe tbody tr th {\n",
       "        vertical-align: top;\n",
       "    }\n",
       "\n",
       "    .dataframe thead th {\n",
       "        text-align: right;\n",
       "    }\n",
       "</style>\n",
       "<table border=\"1\" class=\"dataframe\">\n",
       "  <thead>\n",
       "    <tr style=\"text-align: right;\">\n",
       "      <th></th>\n",
       "      <th>Gross</th>\n",
       "    </tr>\n",
       "    <tr>\n",
       "      <th>Director</th>\n",
       "      <th></th>\n",
       "    </tr>\n",
       "  </thead>\n",
       "  <tbody>\n",
       "    <tr>\n",
       "      <th>Steven Spielberg</th>\n",
       "      <td>3745.97</td>\n",
       "    </tr>\n",
       "    <tr>\n",
       "      <th>Michael Bay</th>\n",
       "      <td>2326.51</td>\n",
       "    </tr>\n",
       "    <tr>\n",
       "      <th>Anthony Russo</th>\n",
       "      <td>2280.67</td>\n",
       "    </tr>\n",
       "    <tr>\n",
       "      <th>J.J. Abrams</th>\n",
       "      <td>2199.40</td>\n",
       "    </tr>\n",
       "    <tr>\n",
       "      <th>Robert Zemeckis</th>\n",
       "      <td>2075.94</td>\n",
       "    </tr>\n",
       "  </tbody>\n",
       "</table>\n",
       "</div>"
      ],
      "text/plain": [
       "                    Gross\n",
       "Director                 \n",
       "Steven Spielberg  3745.97\n",
       "Michael Bay       2326.51\n",
       "Anthony Russo     2280.67\n",
       "J.J. Abrams       2199.40\n",
       "Robert Zemeckis   2075.94"
      ]
     },
     "execution_count": 41,
     "metadata": {},
     "output_type": "execute_result"
    }
   ],
   "source": [
    "#Find total box office earnings by director\n",
    "director_total = directors.groupby([\"Director\"]).sum().sort_values([\"Gross\"], ascending = False)\n",
    "director_total.head()"
   ]
  },
  {
   "cell_type": "code",
   "execution_count": 47,
   "id": "086d9ee7",
   "metadata": {},
   "outputs": [
    {
     "data": {
      "text/html": [
       "<div>\n",
       "<style scoped>\n",
       "    .dataframe tbody tr th:only-of-type {\n",
       "        vertical-align: middle;\n",
       "    }\n",
       "\n",
       "    .dataframe tbody tr th {\n",
       "        vertical-align: top;\n",
       "    }\n",
       "\n",
       "    .dataframe thead th {\n",
       "        text-align: right;\n",
       "    }\n",
       "</style>\n",
       "<table border=\"1\" class=\"dataframe\">\n",
       "  <thead>\n",
       "    <tr style=\"text-align: right;\">\n",
       "      <th></th>\n",
       "      <th>Gross</th>\n",
       "    </tr>\n",
       "    <tr>\n",
       "      <th>Actors</th>\n",
       "      <th></th>\n",
       "    </tr>\n",
       "  </thead>\n",
       "  <tbody>\n",
       "    <tr>\n",
       "      <th>Daisy Ridley</th>\n",
       "      <td>690.68</td>\n",
       "    </tr>\n",
       "    <tr>\n",
       "      <th>Donald Glover</th>\n",
       "      <td>543.64</td>\n",
       "    </tr>\n",
       "    <tr>\n",
       "      <th>Ellen DeGeneres</th>\n",
       "      <td>486.30</td>\n",
       "    </tr>\n",
       "    <tr>\n",
       "      <th>Craig T. Nelson</th>\n",
       "      <td>435.01</td>\n",
       "    </tr>\n",
       "    <tr>\n",
       "      <th>Chadwick Boseman</th>\n",
       "      <td>397.53</td>\n",
       "    </tr>\n",
       "  </tbody>\n",
       "</table>\n",
       "</div>"
      ],
      "text/plain": [
       "                   Gross\n",
       "Actors                  \n",
       "Daisy Ridley      690.68\n",
       "Donald Glover     543.64\n",
       "Ellen DeGeneres   486.30\n",
       "Craig T. Nelson   435.01\n",
       "Chadwick Boseman  397.53"
      ]
     },
     "execution_count": 47,
     "metadata": {},
     "output_type": "execute_result"
    }
   ],
   "source": [
    "#Find per film average in revenue by actor\n",
    "actors = merge_df[[\"Actors\", \"Gross\"]].dropna()\n",
    "actor_average = actors.groupby([\"Actors\"]).mean().sort_values([\"Gross\"], ascending = False)\n",
    "actor_average.head()"
   ]
  },
  {
   "cell_type": "code",
   "execution_count": 51,
   "id": "2901fd81",
   "metadata": {},
   "outputs": [
    {
     "data": {
      "text/html": [
       "<div>\n",
       "<style scoped>\n",
       "    .dataframe tbody tr th:only-of-type {\n",
       "        vertical-align: middle;\n",
       "    }\n",
       "\n",
       "    .dataframe tbody tr th {\n",
       "        vertical-align: top;\n",
       "    }\n",
       "\n",
       "    .dataframe thead th {\n",
       "        text-align: right;\n",
       "    }\n",
       "</style>\n",
       "<table border=\"1\" class=\"dataframe\">\n",
       "  <thead>\n",
       "    <tr style=\"text-align: right;\">\n",
       "      <th></th>\n",
       "      <th>Gross</th>\n",
       "    </tr>\n",
       "    <tr>\n",
       "      <th>Actors</th>\n",
       "      <th></th>\n",
       "    </tr>\n",
       "  </thead>\n",
       "  <tbody>\n",
       "    <tr>\n",
       "      <th>Tom Hanks</th>\n",
       "      <td>4475.35</td>\n",
       "    </tr>\n",
       "    <tr>\n",
       "      <th>Robert Downey Jr.</th>\n",
       "      <td>4294.17</td>\n",
       "    </tr>\n",
       "    <tr>\n",
       "      <th>Tom Cruise</th>\n",
       "      <td>3532.90</td>\n",
       "    </tr>\n",
       "    <tr>\n",
       "      <th>Will Smith</th>\n",
       "      <td>3261.83</td>\n",
       "    </tr>\n",
       "    <tr>\n",
       "      <th>Johnny Depp</th>\n",
       "      <td>2684.84</td>\n",
       "    </tr>\n",
       "  </tbody>\n",
       "</table>\n",
       "</div>"
      ],
      "text/plain": [
       "                     Gross\n",
       "Actors                    \n",
       "Tom Hanks          4475.35\n",
       "Robert Downey Jr.  4294.17\n",
       "Tom Cruise         3532.90\n",
       "Will Smith         3261.83\n",
       "Johnny Depp        2684.84"
      ]
     },
     "execution_count": 51,
     "metadata": {},
     "output_type": "execute_result"
    }
   ],
   "source": [
    "#Find total earnings by lead actor\n",
    "actor_total = actors.groupby([\"Actors\"]).sum().sort_values([\"Gross\"], ascending = False)\n",
    "actor_total.head()"
   ]
  },
  {
   "cell_type": "code",
   "execution_count": 79,
   "id": "723d1266",
   "metadata": {},
   "outputs": [
    {
     "data": {
      "text/plain": [
       "Text(0.5, 0, 'Year')"
      ]
     },
     "execution_count": 79,
     "metadata": {},
     "output_type": "execute_result"
    },
    {
     "data": {
      "image/png": "[encoded data removed]",
      "text/plain": [
       "<Figure size 640x480 with 1 Axes>"
      ]
     },
     "metadata": {},
     "output_type": "display_data"
    }
   ],
   "source": [
    "#Comparing box-office earnings to release year\n",
    "year_gross = merge_df[[\"Year\", \"Gross\"]].dropna()\n",
    "year_average = year_gross.groupby([\"Year\"]).mean().sort_values([\"Year\"], ascending = False)\n",
    "\n",
    "year_average.head()\n",
    "year_average.plot(kind = \"line\")\n",
    "plt.xlabel(\"Year\")"
   ]
  },
  {
   "cell_type": "code",
   "execution_count": 78,
   "id": "d2f5411f",
   "metadata": {},
   "outputs": [
    {
     "data": {
      "text/plain": [
       "Text(0.5, 0, 'Year')"
      ]
     },
     "execution_count": 78,
     "metadata": {},
     "output_type": "execute_result"
    },
    {
     "data": {
      "image/png": "[encoded data removed]",
      "text/plain": [
       "<Figure size 640x480 with 1 Axes>"
      ]
     },
     "metadata": {},
     "output_type": "display_data"
    }
   ],
   "source": [
    "#Comparing box-office earnings to release year\n",
    "year_gross = merge_df[[\"Year\", \"Gross\"]].dropna()\n",
    "year_average = year_gross.groupby([\"Year\"]).mean().sort_values([\"Year\"], ascending = False)\n",
    "\n",
    "year_average.head()\n",
    "plt.scatter(year_average.index, year_average)\n",
    "plt.xlabel(\"Year\")"
   ]
  },
  {
   "cell_type": "code",
   "execution_count": 59,
   "id": "fdf55dfb",
   "metadata": {},
   "outputs": [
    {
     "data": {
      "text/html": [
       "<div>\n",
       "<style scoped>\n",
       "    .dataframe tbody tr th:only-of-type {\n",
       "        vertical-align: middle;\n",
       "    }\n",
       "\n",
       "    .dataframe tbody tr th {\n",
       "        vertical-align: top;\n",
       "    }\n",
       "\n",
       "    .dataframe thead th {\n",
       "        text-align: right;\n",
       "    }\n",
       "</style>\n",
       "<table border=\"1\" class=\"dataframe\">\n",
       "  <thead>\n",
       "    <tr style=\"text-align: right;\">\n",
       "      <th></th>\n",
       "      <th>Gross</th>\n",
       "    </tr>\n",
       "    <tr>\n",
       "      <th>Year</th>\n",
       "      <th></th>\n",
       "    </tr>\n",
       "  </thead>\n",
       "  <tbody>\n",
       "    <tr>\n",
       "      <th>2016</th>\n",
       "      <td>10930.24</td>\n",
       "    </tr>\n",
       "    <tr>\n",
       "      <th>2018</th>\n",
       "      <td>10406.01</td>\n",
       "    </tr>\n",
       "    <tr>\n",
       "      <th>2013</th>\n",
       "      <td>10337.36</td>\n",
       "    </tr>\n",
       "    <tr>\n",
       "      <th>2017</th>\n",
       "      <td>10273.30</td>\n",
       "    </tr>\n",
       "    <tr>\n",
       "      <th>2015</th>\n",
       "      <td>10087.74</td>\n",
       "    </tr>\n",
       "  </tbody>\n",
       "</table>\n",
       "</div>"
      ],
      "text/plain": [
       "         Gross\n",
       "Year          \n",
       "2016  10930.24\n",
       "2018  10406.01\n",
       "2013  10337.36\n",
       "2017  10273.30\n",
       "2015  10087.74"
      ]
     },
     "execution_count": 59,
     "metadata": {},
     "output_type": "execute_result"
    }
   ],
   "source": [
    "# Total earnings by year\n",
    "year_total = year_gross.groupby([\"Year\"]).sum().sort_values([\"Gross\"], ascending = False)\n",
    "year_total.head()"
   ]
  },
  {
   "cell_type": "code",
   "execution_count": 80,
   "id": "df40d3f2",
   "metadata": {},
   "outputs": [
    {
     "data": {
      "text/plain": [
       "Text(0.5, 0, 'Year')"
      ]
     },
     "execution_count": 80,
     "metadata": {},
     "output_type": "execute_result"
    },
    {
     "data": {
      "image/png": "[encoded data removed]",
      "text/plain": [
       "<Figure size 640x480 with 1 Axes>"
      ]
     },
     "metadata": {},
     "output_type": "display_data"
    }
   ],
   "source": [
    "#Comparing box-office earnings to release year\n",
    "plt.scatter(year_total.index, year_total)\n",
    "plt.xlabel(\"Year\")"
   ]
  },
  {
   "cell_type": "code",
   "execution_count": 85,
   "id": "f76a5816",
   "metadata": {},
   "outputs": [
    {
     "data": {
      "text/plain": [
       "Text(0.5, 0, 'Year')"
      ]
     },
     "execution_count": 85,
     "metadata": {},
     "output_type": "execute_result"
    },
    {
     "data": {
      "image/png": "[encoded data removed]",
      "text/plain": [
       "<Figure size 640x480 with 1 Axes>"
      ]
     },
     "metadata": {},
     "output_type": "display_data"
    }
   ],
   "source": [
    "year_total.plot(kind = \"bar\")\n",
    "plt.xlabel(\"Year\")"
   ]
  },
  {
   "cell_type": "code",
   "execution_count": 67,
   "id": "98a93d45",
   "metadata": {},
   "outputs": [
    {
     "data": {
      "text/plain": [
       "Year\n",
       "1921      1\n",
       "1924      1\n",
       "1925      2\n",
       "1926      1\n",
       "1927      2\n",
       "       ... \n",
       "2017    151\n",
       "2018    151\n",
       "2019    110\n",
       "2020     24\n",
       "2021     28\n",
       "Length: 96, dtype: int64"
      ]
     },
     "execution_count": 67,
     "metadata": {},
     "output_type": "execute_result"
    }
   ],
   "source": [
    "year_gross.groupby([\"Year\"]).size()"
   ]
  },
  {
   "cell_type": "code",
   "execution_count": null,
   "id": "54cfe767",
   "metadata": {},
   "outputs": [],
   "source": []
  }
 ],
 "metadata": {
  "kernelspec": {
   "display_name": "Python 3 (ipykernel)",
   "language": "python",
   "name": "python3"
  },
  "language_info": {
   "codemirror_mode": {
    "name": "ipython",
    "version": 3
   },
   "file_extension": ".py",
   "mimetype": "text/x-python",
   "name": "python",
   "nbconvert_exporter": "python",
   "pygments_lexer": "ipython3",
   "version": "3.10.13"
  }
 },
 "nbformat": 4,
 "nbformat_minor": 5
}
