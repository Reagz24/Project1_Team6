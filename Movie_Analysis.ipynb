{
 "cells": [
  {
   "cell_type": "code",
   "execution_count": 1,
   "id": "432a0b8c",
   "metadata": {},
   "outputs": [],
   "source": [
    "import pandas as pd\n",
    "import requests\n",
    "import json\n",
    "from config import api_key \n",
    "import numpy as np\n",
    "import matplotlib.pyplot as plt\n",
    "from scipy.stats import linregress\n"
   ]
  },
  {
   "cell_type": "code",
   "execution_count": 9,
   "id": "9ccf35cb",
   "metadata": {},
   "outputs": [
    {
     "data": {
      "text/plain": [
       "Movie_Title     object\n",
       "Year             int64\n",
       "Director        object\n",
       "Actors          object\n",
       "imdb_score     float64\n",
       "Total_Gross     object\n",
       "dtype: object"
      ]
     },
     "execution_count": 9,
     "metadata": {},
     "output_type": "execute_result"
    }
   ],
   "source": [
    "#Load CSV Files with movie data\n",
    "imdb_file = pd.read_csv(\"Resource/IMDb_All_Genres_etf_clean1.csv\")\n",
    "imdb_clean = imdb_file.drop(columns = [\"Censor\", \"main_genre\", \"side_genre\", \"Runtime(Mins)\"])\n",
    "imdb_clean = imdb_clean.rename(columns = {\"Rating\": \"imdb_score\"})\n",
    "imdb_clean.set_index(\"Movie_Title\")\n",
    "imdb_clean.dtypes"
   ]
  },
  {
   "cell_type": "code",
   "execution_count": 3,
   "id": "6b3699aa",
   "metadata": {},
   "outputs": [],
   "source": [
    "#Load CSV Files with movie data\n",
    "#metadata_file = pd.read_csv(\"Resource/movie_metadata.csv\")\n",
    "#metadata_clean = metadata_file.drop(columns = [\"color\", \"num_critic_for_reviews\", \"duration\", \"director_facebook_likes\", \n",
    "                             #\"actor_3_facebook_likes\", \"actor_1_facebook_likes\", \"genres\", \"num_voted_users\", \n",
    "                             #\"cast_total_facebook_likes\", \"facenumber_in_poster\", \"plot_keywords\", \"movie_imdb_link\", \n",
    "                             #\"num_user_for_reviews\", \"language\", \"country\", \"content_rating\", \"aspect_ratio\", \"movie_facebook_likes\",\n",
    "                                              #\"actor_2_facebook_likes\"])\n",
    "#metadata_clean = metadata_clean.rename(columns = {\"movie_title\": \"Movie_Title\", \"title_year\": \"Year\"})\n",
    "#metadata_clean = metadata_clean.set_index(\"Movie_Title\")\n",
    "#metadata_budget = metadata_clean[\"budget\"]\n",
    "#metadata_budget.head()"
   ]
  },
  {
   "cell_type": "code",
   "execution_count": 32,
   "id": "387b494c",
   "metadata": {},
   "outputs": [
    {
     "data": {
      "text/plain": [
       "Year                    int64\n",
       "Gross                  object\n",
       "Worldwide LT Gross     object\n",
       "Metascore             float64\n",
       "dtype: object"
      ]
     },
     "execution_count": 32,
     "metadata": {},
     "output_type": "execute_result"
    }
   ],
   "source": [
    "#Load CSV Files with movie data\n",
    "top1000_file = pd.read_csv(\"Resource/Top_1000_Highest_Grossing_Movies_Of_All_Time.csv\")\n",
    "top1000_file = top1000_file.drop(columns = [\"Genre\", \"Movie Rating\", \"Duration\", \"Votes\", \"Logline\"])\n",
    "top1000_file = top1000_file.rename(columns = {\"Movie Title\": \"Movie_Title\", \"Year of Realease\": \"Year\"})\n",
    "top1000_file = top1000_file.set_index(\"Movie_Title\")\n",
    "top1000_file[\"Year\"] = top1000_file[\"Year\"].replace({\"X2016\": \"2016\"})\n",
    "top1000_file[\"Metascore\"] = top1000_file[\"Metascore\"].replace({\"******\": \"\"})\n",
    "top1000_file[\"Year\"] = pd.to_numeric(top1000_file[\"Year\"])\n",
    "top1000_file[\"Metascore\"] = pd.to_numeric(top1000_file[\"Metascore\"])\n",
    "top1000_file.dtypes"
   ]
  },
  {
   "cell_type": "code",
   "execution_count": 36,
   "id": "97e074af",
   "metadata": {},
   "outputs": [
    {
     "data": {
      "text/html": [
       "<div>\n",
       "<style scoped>\n",
       "    .dataframe tbody tr th:only-of-type {\n",
       "        vertical-align: middle;\n",
       "    }\n",
       "\n",
       "    .dataframe tbody tr th {\n",
       "        vertical-align: top;\n",
       "    }\n",
       "\n",
       "    .dataframe thead th {\n",
       "        text-align: right;\n",
       "    }\n",
       "</style>\n",
       "<table border=\"1\" class=\"dataframe\">\n",
       "  <thead>\n",
       "    <tr style=\"text-align: right;\">\n",
       "      <th></th>\n",
       "      <th>Movie_Title</th>\n",
       "      <th>Year</th>\n",
       "      <th>Director</th>\n",
       "      <th>Actors</th>\n",
       "      <th>imdb_score</th>\n",
       "      <th>Total_Gross</th>\n",
       "      <th>Gross</th>\n",
       "      <th>Worldwide LT Gross</th>\n",
       "      <th>Metascore</th>\n",
       "    </tr>\n",
       "  </thead>\n",
       "  <tbody>\n",
       "    <tr>\n",
       "      <th>0</th>\n",
       "      <td>Kantara</td>\n",
       "      <td>2022</td>\n",
       "      <td>Rishab Shetty</td>\n",
       "      <td>Rishab Shetty, Sapthami Gowda, Kishore Kumar G...</td>\n",
       "      <td>9.3</td>\n",
       "      <td>Gross Unkown</td>\n",
       "      <td>NaN</td>\n",
       "      <td>NaN</td>\n",
       "      <td>NaN</td>\n",
       "    </tr>\n",
       "    <tr>\n",
       "      <th>1</th>\n",
       "      <td>The Dark Knight</td>\n",
       "      <td>2008</td>\n",
       "      <td>Christopher Nolan</td>\n",
       "      <td>Christian Bale, Heath Ledger, Aaron Eckhart, M...</td>\n",
       "      <td>9.0</td>\n",
       "      <td>$534.86M</td>\n",
       "      <td>$534.86M</td>\n",
       "      <td>$1,006,102,277</td>\n",
       "      <td>84.0</td>\n",
       "    </tr>\n",
       "    <tr>\n",
       "      <th>2</th>\n",
       "      <td>The Lord of the Rings: The Return of the King</td>\n",
       "      <td>2003</td>\n",
       "      <td>Peter Jackson</td>\n",
       "      <td>Elijah Wood, Viggo Mortensen, Ian McKellen, Or...</td>\n",
       "      <td>9.0</td>\n",
       "      <td>$377.85M</td>\n",
       "      <td>$377.85M</td>\n",
       "      <td>$1,146,436,214</td>\n",
       "      <td>94.0</td>\n",
       "    </tr>\n",
       "    <tr>\n",
       "      <th>3</th>\n",
       "      <td>Inception</td>\n",
       "      <td>2010</td>\n",
       "      <td>Christopher Nolan</td>\n",
       "      <td>Leonardo DiCaprio, Joseph Gordon-Levitt, Ellio...</td>\n",
       "      <td>8.8</td>\n",
       "      <td>$292.58M</td>\n",
       "      <td>$292.58M</td>\n",
       "      <td>$836,848,102</td>\n",
       "      <td>74.0</td>\n",
       "    </tr>\n",
       "    <tr>\n",
       "      <th>4</th>\n",
       "      <td>The Lord of the Rings: The Two Towers</td>\n",
       "      <td>2002</td>\n",
       "      <td>Peter Jackson</td>\n",
       "      <td>Elijah Wood, Ian McKellen, Viggo Mortensen, Or...</td>\n",
       "      <td>8.8</td>\n",
       "      <td>$342.55M</td>\n",
       "      <td>$342.55M</td>\n",
       "      <td>$947,896,241</td>\n",
       "      <td>87.0</td>\n",
       "    </tr>\n",
       "  </tbody>\n",
       "</table>\n",
       "</div>"
      ],
      "text/plain": [
       "                                     Movie_Title  Year           Director  \\\n",
       "0                                        Kantara  2022      Rishab Shetty   \n",
       "1                                The Dark Knight  2008  Christopher Nolan   \n",
       "2  The Lord of the Rings: The Return of the King  2003      Peter Jackson   \n",
       "3                                      Inception  2010  Christopher Nolan   \n",
       "4          The Lord of the Rings: The Two Towers  2002      Peter Jackson   \n",
       "\n",
       "                                              Actors  imdb_score  \\\n",
       "0  Rishab Shetty, Sapthami Gowda, Kishore Kumar G...         9.3   \n",
       "1  Christian Bale, Heath Ledger, Aaron Eckhart, M...         9.0   \n",
       "2  Elijah Wood, Viggo Mortensen, Ian McKellen, Or...         9.0   \n",
       "3  Leonardo DiCaprio, Joseph Gordon-Levitt, Ellio...         8.8   \n",
       "4  Elijah Wood, Ian McKellen, Viggo Mortensen, Or...         8.8   \n",
       "\n",
       "    Total_Gross     Gross Worldwide LT Gross  Metascore  \n",
       "0  Gross Unkown       NaN                NaN        NaN  \n",
       "1      $534.86M  $534.86M     $1,006,102,277       84.0  \n",
       "2      $377.85M  $377.85M     $1,146,436,214       94.0  \n",
       "3      $292.58M  $292.58M       $836,848,102       74.0  \n",
       "4      $342.55M  $342.55M       $947,896,241       87.0  "
      ]
     },
     "execution_count": 36,
     "metadata": {},
     "output_type": "execute_result"
    }
   ],
   "source": [
    "#Merge Dataframes into one\n",
    "merge_df = pd.merge(imdb_clean, top1000_file, how = \"outer\", on = [\"Movie_Title\", \"Year\"])\n",
    "#merge_df = pd.merge(merge_df, metadata_budget, how = \"outer\", on = \"Movie_Title\")\n",
    "merge_df.head()"
   ]
  },
  {
   "cell_type": "code",
   "execution_count": 37,
   "id": "37533dcb",
   "metadata": {},
   "outputs": [
    {
     "data": {
      "text/html": [
       "<div>\n",
       "<style scoped>\n",
       "    .dataframe tbody tr th:only-of-type {\n",
       "        vertical-align: middle;\n",
       "    }\n",
       "\n",
       "    .dataframe tbody tr th {\n",
       "        vertical-align: top;\n",
       "    }\n",
       "\n",
       "    .dataframe thead th {\n",
       "        text-align: right;\n",
       "    }\n",
       "</style>\n",
       "<table border=\"1\" class=\"dataframe\">\n",
       "  <thead>\n",
       "    <tr style=\"text-align: right;\">\n",
       "      <th></th>\n",
       "      <th>Movie_Title</th>\n",
       "      <th>Year</th>\n",
       "      <th>Director</th>\n",
       "      <th>Actors</th>\n",
       "      <th>imdb_score</th>\n",
       "      <th>Total_Gross</th>\n",
       "      <th>Gross</th>\n",
       "      <th>Worldwide LT Gross</th>\n",
       "      <th>Metascore</th>\n",
       "    </tr>\n",
       "  </thead>\n",
       "  <tbody>\n",
       "    <tr>\n",
       "      <th>143</th>\n",
       "      <td>Avatar</td>\n",
       "      <td>2009</td>\n",
       "      <td>James Cameron</td>\n",
       "      <td>Sam Worthington, Zoe Saldana, Sigourney Weaver...</td>\n",
       "      <td>7.8</td>\n",
       "      <td>$760.51M</td>\n",
       "      <td>$760.51M</td>\n",
       "      <td>$2,847,397,339</td>\n",
       "      <td>83.0</td>\n",
       "    </tr>\n",
       "  </tbody>\n",
       "</table>\n",
       "</div>"
      ],
      "text/plain": [
       "    Movie_Title  Year       Director  \\\n",
       "143      Avatar  2009  James Cameron   \n",
       "\n",
       "                                                Actors  imdb_score  \\\n",
       "143  Sam Worthington, Zoe Saldana, Sigourney Weaver...         7.8   \n",
       "\n",
       "    Total_Gross     Gross Worldwide LT Gross  Metascore  \n",
       "143    $760.51M  $760.51M     $2,847,397,339       83.0  "
      ]
     },
     "execution_count": 37,
     "metadata": {},
     "output_type": "execute_result"
    }
   ],
   "source": [
    "merge_df.loc[merge_df[\"Movie_Title\"] == \"Avatar\"]"
   ]
  },
  {
   "cell_type": "code",
   "execution_count": null,
   "id": "1cde850c",
   "metadata": {},
   "outputs": [],
   "source": []
  }
 ],
 "metadata": {
  "kernelspec": {
   "display_name": "Python 3 (ipykernel)",
   "language": "python",
   "name": "python3"
  },
  "language_info": {
   "codemirror_mode": {
    "name": "ipython",
    "version": 3
   },
   "file_extension": ".py",
   "mimetype": "text/x-python",
   "name": "python",
   "nbconvert_exporter": "python",
   "pygments_lexer": "ipython3",
   "version": "3.10.13"
  }
 },
 "nbformat": 4,
 "nbformat_minor": 5
}
