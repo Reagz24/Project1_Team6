{
 "cells": [
  {
   "cell_type": "code",
   "execution_count": 4,
   "id": "0fcaeb91",
   "metadata": {},
   "outputs": [],
   "source": [
    "import pandas as pd\n",
    "import requests\n",
    "import json\n",
    "from config import api_key \n",
    "import numpy as np\n",
    "import matplotlib.pyplot as plt\n",
    "from scipy.stats import linregress\n"
   ]
  },
  {
   "cell_type": "code",
   "execution_count": 30,
   "id": "8f6f9431",
   "metadata": {},
   "outputs": [
    {
     "data": {
      "text/plain": [
       "Index(['Movie_Title', 'Year', 'Director', 'Actors', 'imdb_score',\n",
       "       'Total_Gross'],\n",
       "      dtype='object')"
      ]
     },
     "execution_count": 30,
     "metadata": {},
     "output_type": "execute_result"
    }
   ],
   "source": [
    "#Load CSV Files with movie data\n",
    "imdb_file = pd.read_csv(\"Resource/IMDb_All_Genres_etf_clean1.csv\")\n",
    "imdb_clean = imdb_file.drop(columns = [\"Censor\", \"main_genre\", \"side_genre\", \"Runtime(Mins)\"])\n",
    "imdb_clean = imdb_clean.rename(columns = {\"Rating\": \"imdb_score\"})\n",
    "imdb_clean.columns"
   ]
  },
  {
   "cell_type": "code",
   "execution_count": 28,
   "id": "d0be107b",
   "metadata": {},
   "outputs": [
    {
     "data": {
      "text/plain": [
       "Index(['director_name', 'actor_2_name', 'gross', 'actor_1_name', 'Movie_Title',\n",
       "       'actor_3_name', 'budget', 'Year', 'imdb_score'],\n",
       "      dtype='object')"
      ]
     },
     "execution_count": 28,
     "metadata": {},
     "output_type": "execute_result"
    }
   ],
   "source": [
    "#Load CSV Files with movie data\n",
    "metadata_file = pd.read_csv(\"Resource/movie_metadata.csv\")\n",
    "metadata_clean = metadata_file.drop(columns = [\"color\", \"num_critic_for_reviews\", \"duration\", \"director_facebook_likes\", \n",
    "                             \"actor_3_facebook_likes\", \"actor_1_facebook_likes\", \"genres\", \"num_voted_users\", \n",
    "                             \"cast_total_facebook_likes\", \"facenumber_in_poster\", \"plot_keywords\", \"movie_imdb_link\", \n",
    "                             \"num_user_for_reviews\", \"language\", \"country\", \"content_rating\", \"aspect_ratio\", \"movie_facebook_likes\",\n",
    "                                              \"actor_2_facebook_likes\"])\n",
    "metadata_clean = metadata_clean.rename(columns = {\"movie_title\": \"Movie_Title\", \"title_year\": \"Year\"})\n",
    "metadata_clean.columns"
   ]
  },
  {
   "cell_type": "code",
   "execution_count": 29,
   "id": "dbb5916d",
   "metadata": {},
   "outputs": [
    {
     "data": {
      "text/plain": [
       "Index(['Movie_Title', 'Year', 'Gross', 'Worldwide LT Gross', 'Metascore'], dtype='object')"
      ]
     },
     "execution_count": 29,
     "metadata": {},
     "output_type": "execute_result"
    }
   ],
   "source": [
    "#Load CSV Files with movie data\n",
    "top1000_file = pd.read_csv(\"Resource/Top_1000_Highest_Grossing_Movies_Of_All_Time.csv\")\n",
    "top1000_file = top1000_file.drop(columns = [\"Genre\", \"Movie Rating\", \"Duration\", \"Votes\", \"Logline\"])\n",
    "top1000_file = top1000_file.rename(columns = {\"Movie Title\": \"Movie_Title\", \"Year of Realease\": \"Year\"})\n",
    "top1000_file.columns"
   ]
  },
  {
   "cell_type": "code",
   "execution_count": null,
   "id": "6df4db84",
   "metadata": {},
   "outputs": [],
   "source": []
  }
 ],
 "metadata": {
  "kernelspec": {
   "display_name": "Python 3 (ipykernel)",
   "language": "python",
   "name": "python3"
  },
  "language_info": {
   "codemirror_mode": {
    "name": "ipython",
    "version": 3
   },
   "file_extension": ".py",
   "mimetype": "text/x-python",
   "name": "python",
   "nbconvert_exporter": "python",
   "pygments_lexer": "ipython3",
   "version": "3.10.13"
  }
 },
 "nbformat": 4,
 "nbformat_minor": 5
}
